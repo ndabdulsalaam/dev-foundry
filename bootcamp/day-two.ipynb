{
 "cells": [
  {
   "cell_type": "markdown",
   "id": "d989a22c",
   "metadata": {},
   "source": [
    "### Problem Statement\n",
    "\n",
    "Create a function that accepts a list of three functions:\n",
    "\n",
    "1. **First function**  \n",
    "   Extracts the last four digits of an ATM card number.  \n",
    "   - Example: `\"7F5UIZT0A1YK7391\"` → `\"7391\"`\n",
    "\n",
    "2. **Second function**  \n",
    "   Retrieves the first character that appears before those four digits in the input sequence.  \n",
    "   - Example: `\"7F5UIZT0A1YK7391\"` → `\"K\"`\n",
    "\n",
    "3. **Third function**  \n",
    "   Combines the results by:  \n",
    "   - Converting the last four digits to a numeric value.  \n",
    "   - Adding the numeric value from the first function and then multiplying it by the character. \n",
    "      - Example above → K in 20 times\n"
   ]
  },
  {
   "cell_type": "markdown",
   "id": "b39ffe9a",
   "metadata": {},
   "source": [
    "# Day Two: Function - Decorators and Generators"
   ]
  },
  {
   "cell_type": "code",
   "execution_count": 1,
   "id": "060ffe5c",
   "metadata": {},
   "outputs": [],
   "source": [
    "def extract_last_four(card_number: str) -> str:\n",
    "    \"\"\"Extract the last four digits from a credit card number string.\n",
    "\n",
    "    Args:\n",
    "        card_number (str): The credit card number as a string.\n",
    "\n",
    "    Returns:\n",
    "        str: The last four digits of the credit card number.\n",
    "    \"\"\"\n",
    "    return card_number[-4:]"
   ]
  },
  {
   "cell_type": "code",
   "execution_count": 4,
   "id": "34649e25",
   "metadata": {},
   "outputs": [
    {
     "data": {
      "text/plain": [
       "'7391'"
      ]
     },
     "execution_count": 4,
     "metadata": {},
     "output_type": "execute_result"
    }
   ],
   "source": [
    "extract_last_four(\"7F5UIZT0A1YK7391\")"
   ]
  },
  {
   "cell_type": "code",
   "execution_count": null,
   "id": "7b70044e",
   "metadata": {},
   "outputs": [],
   "source": []
  }
 ],
 "metadata": {
  "kernelspec": {
   "display_name": "Python 3",
   "language": "python",
   "name": "python3"
  },
  "language_info": {
   "codemirror_mode": {
    "name": "ipython",
    "version": 3
   },
   "file_extension": ".py",
   "mimetype": "text/x-python",
   "name": "python",
   "nbconvert_exporter": "python",
   "pygments_lexer": "ipython3",
   "version": "3.12.3"
  }
 },
 "nbformat": 4,
 "nbformat_minor": 5
}
