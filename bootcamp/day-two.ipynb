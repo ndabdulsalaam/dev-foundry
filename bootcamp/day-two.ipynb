{
 "cells": [
  {
   "cell_type": "markdown",
   "id": "b39ffe9a",
   "metadata": {},
   "source": [
    "# Day Two: Function - Decorators and Generators"
   ]
  },
  {
   "cell_type": "markdown",
   "id": "d989a22c",
   "metadata": {},
   "source": [
    "### Problem Statement\n",
    "\n",
    "Create a function that accepts a list of three functions:\n",
    "\n",
    "1. **First function**  \n",
    "   Extracts the last four digits of an ATM card number.  \n",
    "   - Example: `\"7F5UIZT0A1YK7391\"` → `\"7391\"`\n",
    "\n",
    "2. **Second function**  \n",
    "   Retrieves the first character that appears before those four digits in the input sequence.  \n",
    "   - Example: `\"7F5UIZT0A1YK7391\"` → `\"K\"`\n",
    "\n",
    "3. **Third function**  \n",
    "   Combines the results by:  \n",
    "   - Converting the last four digits to a numeric value.  \n",
    "   - Adding the numeric value from the first function and then multiplying it by the character. \n",
    "      - Example above → K in 20 times\n"
   ]
  },
  {
   "cell_type": "markdown",
   "id": "301cfa7d",
   "metadata": {},
   "source": []
  }
 ],
 "metadata": {
  "language_info": {
   "name": "python"
  }
 },
 "nbformat": 4,
 "nbformat_minor": 5
}
