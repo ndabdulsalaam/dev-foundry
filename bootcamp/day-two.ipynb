{
 "cells": [
  {
   "cell_type": "markdown",
   "id": "b39ffe9a",
   "metadata": {},
   "source": [
    "# Day Two: Function - Decorators and Generators"
   ]
  },
  {
   "cell_type": "markdown",
   "id": "d989a22c",
   "metadata": {},
   "source": []
  }
 ],
 "metadata": {
  "language_info": {
   "name": "python"
  }
 },
 "nbformat": 4,
 "nbformat_minor": 5
}
