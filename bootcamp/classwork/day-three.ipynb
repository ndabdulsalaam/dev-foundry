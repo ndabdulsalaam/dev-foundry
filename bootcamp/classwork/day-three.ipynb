{
 "cells": [
  {
   "cell_type": "code",
   "execution_count": null,
   "id": "dbbef194",
   "metadata": {},
   "outputs": [],
   "source": [
    "from functools import wraps\n",
    "\n",
    "def log_call(func):\n",
    "    @wraps(func)\n",
    "    def wrapper(*args, **kwargs):\n",
    "        \n",
    "        print(f\"Calling {func.__name__} with args={args}, kwargs={kwargs}\")\n",
    "        \n",
    "        result = func(*args, **kwargs)\n",
    "        \n",
    "        return result\n",
    "    return wrapper"
   ]
  },
  {
   "cell_type": "code",
   "execution_count": 8,
   "id": "478a825e",
   "metadata": {},
   "outputs": [],
   "source": [
    "@log_call\n",
    "def greet(name, age=None):\n",
    "    if age:\n",
    "        return f\"Hello {name}, you are {age} years old\"\n",
    "    return f\"Hello {name}\""
   ]
  },
  {
   "cell_type": "code",
   "execution_count": 9,
   "id": "5b687c75",
   "metadata": {},
   "outputs": [
    {
     "name": "stdout",
     "output_type": "stream",
     "text": [
      "Calling greet with args=('Nurudeen',), kwargs={}\n"
     ]
    },
    {
     "data": {
      "text/plain": [
       "'Hello Nurudeen'"
      ]
     },
     "execution_count": 9,
     "metadata": {},
     "output_type": "execute_result"
    }
   ],
   "source": [
    "greet(\"Nurudeen\")"
   ]
  },
  {
   "cell_type": "code",
   "execution_count": 10,
   "id": "8a46762f",
   "metadata": {},
   "outputs": [
    {
     "name": "stdout",
     "output_type": "stream",
     "text": [
      "Calling greet with args=('Abdulsalaam',), kwargs={'age': 60}\n"
     ]
    },
    {
     "data": {
      "text/plain": [
       "'Hello Abdulsalaam, you are 60 years old'"
      ]
     },
     "execution_count": 10,
     "metadata": {},
     "output_type": "execute_result"
    }
   ],
   "source": [
    "greet(\"Abdulsalaam\", age=60)"
   ]
  },
  {
   "cell_type": "code",
   "execution_count": 52,
   "id": "f053f7a0",
   "metadata": {},
   "outputs": [],
   "source": [
    "def implement(func):\n",
    "    @wraps(func)\n",
    "    def wrapper(name, *args):\n",
    "        if args:\n",
    "            return func(name, *args)\n",
    "        return func(name, 1)\n",
    "    return wrapper"
   ]
  },
  {
   "cell_type": "code",
   "execution_count": 53,
   "id": "1028ebbd",
   "metadata": {},
   "outputs": [],
   "source": [
    "@implement\n",
    "def greet_n_times(name, *args):\n",
    "    return f\"Hello {name}\" * int(args[0])"
   ]
  },
  {
   "cell_type": "code",
   "execution_count": 54,
   "id": "8223b9d1",
   "metadata": {},
   "outputs": [
    {
     "data": {
      "text/plain": [
       "'Hello NurudeenHello NurudeenHello Nurudeen'"
      ]
     },
     "execution_count": 54,
     "metadata": {},
     "output_type": "execute_result"
    }
   ],
   "source": [
    "greet_n_times(\"Nurudeen\", 3)"
   ]
  },
  {
   "cell_type": "code",
   "execution_count": 1,
   "id": "9f58fa22",
   "metadata": {},
   "outputs": [],
   "source": [
    "DEFAULTS = {\n",
    "    \"host\": \"localhost\",\n",
    "    \"port\": 8080,\n",
    "    \"debug\": False,\n",
    "    \"timeout\": 30,\n",
    "}\n"
   ]
  },
  {
   "cell_type": "code",
   "execution_count": 2,
   "id": "0e265582",
   "metadata": {},
   "outputs": [],
   "source": [
    "def build_config(**overrides):\n",
    "    return {**DEFAULTS, **overrides}"
   ]
  },
  {
   "cell_type": "code",
   "execution_count": 3,
   "id": "82ec1b0e",
   "metadata": {},
   "outputs": [
    {
     "name": "stdout",
     "output_type": "stream",
     "text": [
      "{'host': 'localhost', 'port': 9090, 'debug': True, 'timeout': 30}\n"
     ]
    }
   ],
   "source": [
    "new_dict = build_config(port=9090, debug=True)\n",
    "print(new_dict)"
   ]
  },
  {
   "cell_type": "code",
   "execution_count": null,
   "id": "612f0bcf",
   "metadata": {},
   "outputs": [],
   "source": []
  }
 ],
 "metadata": {
  "kernelspec": {
   "display_name": "Python 3",
   "language": "python",
   "name": "python3"
  },
  "language_info": {
   "codemirror_mode": {
    "name": "ipython",
    "version": 3
   },
   "file_extension": ".py",
   "mimetype": "text/x-python",
   "name": "python",
   "nbconvert_exporter": "python",
   "pygments_lexer": "ipython3",
   "version": "3.12.3"
  }
 },
 "nbformat": 4,
 "nbformat_minor": 5
}
