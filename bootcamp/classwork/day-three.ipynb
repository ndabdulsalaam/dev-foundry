{
 "cells": [
  {
   "cell_type": "code",
   "execution_count": null,
   "id": "dbbef194",
   "metadata": {},
   "outputs": [],
   "source": [
    "from functools import wraps\n",
    "\n",
    "def log_call(func):\n",
    "    @wraps(func)\n",
    "    def wrapper(*args, **kwargs):\n",
    "        \n",
    "        print(f\"Calling {func.__name__} with args={args}, kwargs={kwargs}\")\n",
    "        \n",
    "        result = func(*args, **kwargs)\n",
    "        \n",
    "        return result\n",
    "    return wrapper"
   ]
  },
  {
   "cell_type": "code",
   "execution_count": 8,
   "id": "478a825e",
   "metadata": {},
   "outputs": [],
   "source": [
    "@log_call\n",
    "def greet(name, age=None):\n",
    "    if age:\n",
    "        return f\"Hello {name}, you are {age} years old\"\n",
    "    return f\"Hello {name}\""
   ]
  },
  {
   "cell_type": "code",
   "execution_count": 9,
   "id": "5b687c75",
   "metadata": {},
   "outputs": [
    {
     "name": "stdout",
     "output_type": "stream",
     "text": [
      "Calling greet with args=('Nurudeen',), kwargs={}\n"
     ]
    },
    {
     "data": {
      "text/plain": [
       "'Hello Nurudeen'"
      ]
     },
     "execution_count": 9,
     "metadata": {},
     "output_type": "execute_result"
    }
   ],
   "source": [
    "greet(\"Nurudeen\")"
   ]
  },
  {
   "cell_type": "code",
   "execution_count": 10,
   "id": "8a46762f",
   "metadata": {},
   "outputs": [
    {
     "name": "stdout",
     "output_type": "stream",
     "text": [
      "Calling greet with args=('Abdulsalaam',), kwargs={'age': 60}\n"
     ]
    },
    {
     "data": {
      "text/plain": [
       "'Hello Abdulsalaam, you are 60 years old'"
      ]
     },
     "execution_count": 10,
     "metadata": {},
     "output_type": "execute_result"
    }
   ],
   "source": [
    "greet(\"Abdulsalaam\", age=60)"
   ]
  },
  {
   "cell_type": "code",
   "execution_count": 52,
   "id": "f053f7a0",
   "metadata": {},
   "outputs": [],
   "source": [
    "def implement(func):\n",
    "    @wraps(func)\n",
    "    def wrapper(name, *args):\n",
    "        if args:\n",
    "            return func(name, *args)\n",
    "        return func(name, 1)\n",
    "    return wrapper"
   ]
  },
  {
   "cell_type": "code",
   "execution_count": 53,
   "id": "1028ebbd",
   "metadata": {},
   "outputs": [],
   "source": [
    "@implement\n",
    "def greet_n_times(name, *args):\n",
    "    return f\"Hello {name}\" * int(args[0])"
   ]
  },
  {
   "cell_type": "code",
   "execution_count": 54,
   "id": "8223b9d1",
   "metadata": {},
   "outputs": [
    {
     "data": {
      "text/plain": [
       "'Hello NurudeenHello NurudeenHello Nurudeen'"
      ]
     },
     "execution_count": 54,
     "metadata": {},
     "output_type": "execute_result"
    }
   ],
   "source": [
    "greet_n_times(\"Nurudeen\", 3)"
   ]
  },
  {
   "cell_type": "code",
   "execution_count": 1,
   "id": "9f58fa22",
   "metadata": {},
   "outputs": [],
   "source": [
    "DEFAULTS = {\n",
    "    \"host\": \"localhost\",\n",
    "    \"port\": 8080,\n",
    "    \"debug\": False,\n",
    "    \"timeout\": 30,\n",
    "}\n"
   ]
  },
  {
   "cell_type": "code",
   "execution_count": 2,
   "id": "0e265582",
   "metadata": {},
   "outputs": [],
   "source": [
    "def build_config(**overrides):\n",
    "    return {**DEFAULTS, **overrides}"
   ]
  },
  {
   "cell_type": "code",
   "execution_count": 3,
   "id": "82ec1b0e",
   "metadata": {},
   "outputs": [
    {
     "name": "stdout",
     "output_type": "stream",
     "text": [
      "{'host': 'localhost', 'port': 9090, 'debug': True, 'timeout': 30}\n"
     ]
    }
   ],
   "source": [
    "new_dict = build_config(port=9090, debug=True)\n",
    "print(new_dict)"
   ]
  },
  {
   "cell_type": "code",
   "execution_count": 2,
   "id": "612f0bcf",
   "metadata": {},
   "outputs": [],
   "source": [
    "import numpy as np"
   ]
  },
  {
   "cell_type": "code",
   "execution_count": 14,
   "id": "b7e52ffd",
   "metadata": {},
   "outputs": [
    {
     "data": {
      "text/plain": [
       "array([[ 0,  1,  2,  3,  4,  5,  6,  7],\n",
       "       [ 8,  9, 10, 11, 12, 13, 14, 15],\n",
       "       [16, 17, 18, 19, 20, 21, 22, 23],\n",
       "       [24, 25, 26, 27, 28, 29, 30, 31],\n",
       "       [32, 33, 34, 35, 36, 37, 38, 39],\n",
       "       [40, 41, 42, 43, 44, 45, 46, 47],\n",
       "       [48, 49, 50, 51, 52, 53, 54, 55],\n",
       "       [56, 57, 58, 59, 60, 61, 62, 63]])"
      ]
     },
     "execution_count": 14,
     "metadata": {},
     "output_type": "execute_result"
    }
   ],
   "source": [
    "num = np.arange(64).reshape(8,8)\n",
    "num"
   ]
  },
  {
   "cell_type": "code",
   "execution_count": null,
   "id": "c44a4eb9",
   "metadata": {},
   "outputs": [],
   "source": []
  },
  {
   "cell_type": "code",
   "execution_count": null,
   "id": "93ab3673",
   "metadata": {},
   "outputs": [
    {
     "data": {
      "text/plain": [
       "array([[ 1,  3,  5,  7],\n",
       "       [17, 19, 21, 23],\n",
       "       [33, 35, 37, 39],\n",
       "       [49, 51, 53, 55]])"
      ]
     },
     "execution_count": 37,
     "metadata": {},
     "output_type": "execute_result"
    }
   ],
   "source": [
    "# [start:stop:step]\n",
    "# num[row_index, col_index]\n",
    "\n",
    "num[::2, 1::2]"
   ]
  },
  {
   "cell_type": "code",
   "execution_count": 39,
   "id": "a181cad8",
   "metadata": {},
   "outputs": [
    {
     "data": {
      "text/plain": [
       "array([16, 27, 28])"
      ]
     },
     "execution_count": 39,
     "metadata": {},
     "output_type": "execute_result"
    }
   ],
   "source": [
    "num[[2,3,3],[0,3,-4]]"
   ]
  },
  {
   "cell_type": "code",
   "execution_count": null,
   "id": "9bf2fcc6",
   "metadata": {},
   "outputs": [],
   "source": []
  }
 ],
 "metadata": {
  "kernelspec": {
   "display_name": "Python 3",
   "language": "python",
   "name": "python3"
  },
  "language_info": {
   "codemirror_mode": {
    "name": "ipython",
    "version": 3
   },
   "file_extension": ".py",
   "mimetype": "text/x-python",
   "name": "python",
   "nbconvert_exporter": "python",
   "pygments_lexer": "ipython3",
   "version": "3.12.3"
  }
 },
 "nbformat": 4,
 "nbformat_minor": 5
}
