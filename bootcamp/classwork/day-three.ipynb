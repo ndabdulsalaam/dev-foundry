{
 "cells": [
  {
   "cell_type": "code",
   "execution_count": 4,
   "id": "dbbef194",
   "metadata": {},
   "outputs": [],
   "source": [
    "from functools import wraps\n",
    "\n",
    "def log_call(func):\n",
    "    @wraps(func)\n",
    "    def wrapper(*args, **kwargs):\n",
    "        \n",
    "        result = func(*args, **kwargs)\n",
    "        \n",
    "        return result\n",
    "    return wrapper"
   ]
  },
  {
   "cell_type": "code",
   "execution_count": 5,
   "id": "478a825e",
   "metadata": {},
   "outputs": [
    {
     "name": "stdout",
     "output_type": "stream",
     "text": [
      "Hello Nurudeen\n",
      "Hello Abdulsalaam, age 60\n"
     ]
    }
   ],
   "source": [
    "@log_call\n",
    "def greet(name, age=None):\n",
    "    if age:\n",
    "        return f\"Hello {name}, age {age}\"\n",
    "    return f\"Hello {name}\"\n",
    "\n",
    "print(greet(\"Nurudeen\"))\n",
    "print(greet(\"Abdulsalaam\", age=60))\n"
   ]
  },
  {
   "cell_type": "code",
   "execution_count": null,
   "id": "4ffa728d",
   "metadata": {},
   "outputs": [],
   "source": []
  }
 ],
 "metadata": {
  "kernelspec": {
   "display_name": "Python 3",
   "language": "python",
   "name": "python3"
  },
  "language_info": {
   "codemirror_mode": {
    "name": "ipython",
    "version": 3
   },
   "file_extension": ".py",
   "mimetype": "text/x-python",
   "name": "python",
   "nbconvert_exporter": "python",
   "pygments_lexer": "ipython3",
   "version": "3.12.3"
  }
 },
 "nbformat": 4,
 "nbformat_minor": 5
}
